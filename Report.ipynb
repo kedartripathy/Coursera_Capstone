{
 "cells": [
  {
   "cell_type": "markdown",
   "metadata": {},
   "source": [
    "# **Data Science Capstone - Car Accident Severity**\n",
    "## Final Report"
   ]
  },
  {
   "cell_type": "markdown",
   "metadata": {},
   "source": [
    "### *__1. Introduction/Business Problem__*"
   ]
  },
  {
   "cell_type": "markdown",
   "metadata": {},
   "source": [
    "According to the National Safety Council, an estimated 38,800 people lost their lives as a result of a car accident in 2019, with 4.4 million people being injured seriously enough to require medical attention. As there is an abundance of data about car accidents and the conditions they occur in, the relationship between the severity of an accident and these conditions can be modeled. This project will use data science to build a model which predicts the chance of being involved in a severe accident, given certain parameters such as the road conditions, weather forecast, etc. The target audience is anybody the drives or travels in a car on a regular basis. Rideshare companies such as Uber and Lyft can utilize this too, ensuring that their drivers and passengers avoid accident-prone areas. This model could help people avoid certain routes or refrain from driving when the chance of being involved in a severe accident is high, saving time, money and lives."
   ]
  },
  {
   "cell_type": "markdown",
   "metadata": {},
   "source": [
    "### *__2. Data__*"
   ]
  },
  {
   "cell_type": "markdown",
   "metadata": {},
   "source": [
    "The data I will be using is provided by the Seattle Department of Transportation (SDOT) and contains collision data provided by SPD and recorded by Traffic Records since 2004. This data involves key attributes about each collision that is recorded, such as the severity code, location, junction type, road conditions, and weather conditions. The severity code changes from 0 (unknown) to 3 (fatality). The independent attributes, such as the road and weather conditions, can be used to predict the severity code for a particular location/junction. Based on the severity code, users can plan their route to avoid areas with a high probability of being involved in a serious accident."
   ]
  },
  {
   "cell_type": "code",
   "execution_count": null,
   "metadata": {},
   "outputs": [],
   "source": []
  }
 ],
 "metadata": {
  "kernelspec": {
   "display_name": "Python 3",
   "language": "python",
   "name": "python3"
  },
  "language_info": {
   "codemirror_mode": {
    "name": "ipython",
    "version": 3
   },
   "file_extension": ".py",
   "mimetype": "text/x-python",
   "name": "python",
   "nbconvert_exporter": "python",
   "pygments_lexer": "ipython3",
   "version": "3.8.3"
  }
 },
 "nbformat": 4,
 "nbformat_minor": 4
}
